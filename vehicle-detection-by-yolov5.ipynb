{
 "cells": [
  {
   "cell_type": "markdown",
   "metadata": {},
   "source": [
    "## Vehicle Detection in various weather condiction Using YOLOv5"
   ]
  },
  {
   "cell_type": "markdown",
   "metadata": {},
   "source": [
    "## Step 1: Environment Setup"
   ]
  },
  {
   "cell_type": "code",
   "execution_count": null,
   "metadata": {
    "_cell_guid": "b1076dfc-b9ad-4769-8c92-a6c4dae69d19",
    "_uuid": "8f2839f25d086af736a60e9eeb907d3b93b6e0e5"
   },
   "outputs": [],
   "source": [
    "# Clonning the YOLOv5 repository\n",
    "!git clone https://github.com/ultralytics/yolov5\n",
    "%cd yolov5"
   ]
  },
  {
   "cell_type": "code",
   "execution_count": null,
   "metadata": {},
   "outputs": [],
   "source": [
    "#  Installing the necessary requirements:\n",
    "!pip install -r requirements.txt"
   ]
  },
  {
   "cell_type": "markdown",
   "metadata": {},
   "source": [
    "## Step 2: Preparing Dataset Configuration\n"
   ]
  },
  {
   "cell_type": "code",
   "execution_count": null,
   "metadata": {},
   "outputs": [],
   "source": [
    "# train: [icedc-2024/juvdv2-vdvwc-main/Train/Rainny/Day,\n",
    "#         icedc-2024/juvdv2-vdvwc-main/Train/Rainny/Night,\n",
    "#         icedc-2024/juvdv2-vdvwc-main/Train/Sunny/Day,\n",
    "#         icedc-2024/juvdv2-vdvwc-main/Train/Sunny/Night]\n",
    "        \n",
    "# val: [icedc-2024/juvdv2-vdvwc-main/Val/Rainny/Day,\n",
    "#         icedc-2024/juvdv2-vdvwc-main/Val/Rainny/Night,\n",
    "#         icedc-2024/juvdv2-vdvwc-main/Val/Sunny/Day,\n",
    "#         icedc-2024/juvdv2-vdvwc-main/Val/Sunny/Night]"
   ]
  },
  {
   "cell_type": "code",
   "execution_count": null,
   "metadata": {},
   "outputs": [],
   "source": [
    "# train: vehicle-data/vehicle-dataset/images/train\n",
    "# val: vehicle-data/vehicle-dataset/images/val "
   ]
  },
  {
   "cell_type": "code",
   "execution_count": null,
   "metadata": {},
   "outputs": [],
   "source": [
    "# Defining the dataset configuration in a YAML file:\n",
    "yaml_content = \"\"\"\n",
    "train: C:/Users/mamit/OneDrive/Desktop/ICDEC 2024/vehicle-dataset/images/train\n",
    "val: C:/Users/mamit/OneDrive/Desktop/ICDEC 2024/vehicle-dataset/images/val  \n",
    "\n",
    "nc: 15\n",
    "names: ['car', 'bike', 'auto', 'rickshaw', 'cycle', 'bus', 'minitruck', 'truck', 'van', 'taxi', 'motorvan', 'toto', 'train', 'boat', 'other']\n",
    "\"\"\"\n",
    "\n",
    "# Specify the path for data.yaml\n",
    "yaml_path = 'C:/Users/mamit/OneDrive/Desktop/ICDEC 2024/data.yaml'\n",
    "\n",
    "# Write the YAML content to the file\n",
    "with open(yaml_path, 'w') as file:\n",
    "    file.write(yaml_content)\n",
    "\n",
    "print(f\"data.yaml has been saved to: {yaml_path}\")"
   ]
  },
  {
   "cell_type": "code",
   "execution_count": null,
   "metadata": {},
   "outputs": [],
   "source": [
    "%cd C:/Users/mamit/OneDrive/Desktop/ICDEC 2024/"
   ]
  },
  {
   "cell_type": "markdown",
   "metadata": {},
   "source": [
    "## Step 3: Training the Model"
   ]
  },
  {
   "cell_type": "code",
   "execution_count": null,
   "metadata": {},
   "outputs": [],
   "source": [
    "# Training the model\n",
    "!python yolov5/train.py --img 640 --batch 16 --epochs 3 --data data.yaml --weights yolov5s.pt --cache"
   ]
  },
  {
   "cell_type": "markdown",
   "metadata": {},
   "source": [
    "## Step 4: Reviewing Training Results"
   ]
  },
  {
   "cell_type": "code",
   "execution_count": null,
   "metadata": {},
   "outputs": [],
   "source": [
    "# Imporing necessary libraries\n",
    "import pandas as pd\n",
    "import glob\n",
    "import os\n",
    "import matplotlib.pyplot as plt"
   ]
  },
  {
   "cell_type": "code",
   "execution_count": null,
   "metadata": {},
   "outputs": [],
   "source": [
    "# Locating the latest training directory and reviewing the results:\n",
    "\n",
    "# Finding the most recent training directory\n",
    "list_of_files = glob.glob('C:/Users/mamit/OneDrive/Desktop/ICDEC 2024/yolov5/runs/train/exp') \n",
    "latest_dir = max(list_of_files, key=os.path.getctime)\n",
    "\n",
    "# Loading the results.csv file from the latest directory\n",
    "results_path = os.path.join(latest_dir, 'results.csv')\n",
    "if os.path.exists(results_path):\n",
    "    data = pd.read_csv(results_path)\n",
    "    # Printing the last row of metrics, which represents the final epoch's performance\n",
    "    print(data.iloc[-1])\n",
    "else:\n",
    "    print(\"Results file not found. Make sure training has completed successfully.\")"
   ]
  },
  {
   "cell_type": "code",
   "execution_count": null,
   "metadata": {},
   "outputs": [],
   "source": [
    "# Path to the results.csv file\n",
    "results_path = 'C:/Users/mamit/OneDrive/Desktop/ICDEC 2024/yolov5/runs/train/exp/results.csv'\n",
    "\n",
    "# Loading the CSV data into a DataFrame\n",
    "results = pd.read_csv(results_path)"
   ]
  },
  {
   "cell_type": "code",
   "execution_count": null,
   "metadata": {},
   "outputs": [],
   "source": [
    "# Printing results\n",
    "results"
   ]
  },
  {
   "cell_type": "code",
   "execution_count": null,
   "metadata": {},
   "outputs": [],
   "source": [
    "# Printing columns of the results.csv file\n",
    "print(results.columns)"
   ]
  },
  {
   "cell_type": "code",
   "execution_count": null,
   "metadata": {},
   "outputs": [],
   "source": [
    "# Plotting results\n",
    "\n",
    "results = pd.read_csv('C:/Users/mamit/OneDrive/Desktop/ICDEC 2024/yolov5/runs/train/exp/results.csv')\n",
    "\n",
    "# Plotting\n",
    "plt.figure(figsize=(20, 10))\n",
    "\n",
    "# Subplot 1: mAP@0.5 over epochs\n",
    "plt.subplot(2, 3, 1)\n",
    "plt.plot(results['               epoch'], results['     metrics/mAP_0.5'], label='mAP@0.5', color='blue')\n",
    "plt.xlabel('Epoch')\n",
    "plt.ylabel('mAP@0.5')\n",
    "plt.title('mAP@0.5 over Epochs')\n",
    "plt.legend()\n",
    "\n",
    "# Subplot 2: Training and Validation Box Loss\n",
    "plt.subplot(2, 3, 2)\n",
    "plt.plot(results['               epoch'], results['      train/box_loss'], label='Train Box Loss', color='orange')\n",
    "plt.plot(results['               epoch'], results['        val/box_loss'], label='Val Box Loss', linestyle='--', color='red')\n",
    "plt.xlabel('Epoch')\n",
    "plt.ylabel('Box Loss')\n",
    "plt.title('Box Loss over Epochs')\n",
    "plt.legend()\n",
    "\n",
    "# Subplot 3: Training and Validation Object Loss\n",
    "plt.subplot(2, 3, 3)\n",
    "plt.plot(results['               epoch'], results['      train/obj_loss'], label='Train Obj Loss', color='green')\n",
    "plt.plot(results['               epoch'], results['        val/obj_loss'], label='Val Obj Loss', linestyle='--', color='purple')\n",
    "plt.xlabel('Epoch')\n",
    "plt.ylabel('Object Loss')\n",
    "plt.title('Object Loss over Epochs')\n",
    "plt.legend()\n",
    "\n",
    "# Subplot 4: Training and Validation Class Loss\n",
    "plt.subplot(2, 3, 4)\n",
    "plt.plot(results['               epoch'], results['      train/cls_loss'], label='Train Class Loss', color='skyblue')\n",
    "plt.plot(results['               epoch'], results['        val/cls_loss'], label='Val Class Loss', linestyle='--', color='pink')\n",
    "plt.xlabel('Epoch')\n",
    "plt.ylabel('Class Loss')\n",
    "plt.title('Class Loss over Epochs')\n",
    "plt.legend()\n",
    "\n",
    "# Subplot 5: Precision and Recall\n",
    "plt.subplot(2, 3, 5)\n",
    "plt.plot(results['               epoch'], results['   metrics/precision'], label='Precision', color='navy')\n",
    "plt.plot(results['               epoch'], results['      metrics/recall'], label='Recall', linestyle='--', color='gold')\n",
    "plt.xlabel('Epoch')\n",
    "plt.ylabel('Value')\n",
    "plt.title('Precision and Recall over Epochs')\n",
    "plt.legend()\n",
    "\n",
    "# Subplot 6: Learning Rates\n",
    "plt.subplot(2, 3, 6)\n",
    "plt.plot(results['               epoch'], results['               x/lr0'], label='LR0', color='teal')\n",
    "plt.plot(results['               epoch'], results['               x/lr1'], label='LR1', linestyle='--', color='magenta')\n",
    "plt.plot(results['               epoch'], results['               x/lr2'], label='LR2', linestyle='-.', color='lime')\n",
    "plt.xlabel('Epoch')\n",
    "plt.ylabel('Learning Rate')\n",
    "plt.title('Learning Rates over Epochs')\n",
    "plt.legend()\n",
    "\n",
    "plt.tight_layout()\n",
    "plt.show()"
   ]
  },
  {
   "cell_type": "markdown",
   "metadata": {},
   "source": [
    "## Step 5: Performing Inference Tests"
   ]
  },
  {
   "cell_type": "code",
   "execution_count": null,
   "metadata": {},
   "outputs": [],
   "source": [
    "# Testing the trained model on new images:\n",
    "!python yolov5/detect.py --weights yolov5/runs/train/exp/weights/best.pt --img 640 --conf 0.25 --source test-images/"
   ]
  },
  {
   "cell_type": "markdown",
   "metadata": {},
   "source": [
    "## Step 7: Displaying Inference Results"
   ]
  },
  {
   "cell_type": "code",
   "execution_count": null,
   "metadata": {},
   "outputs": [],
   "source": [
    "from IPython.display import Image, display\n",
    "\n",
    "# The latest detection results are in \"runs/detect/exp\"\n",
    "output_dir = 'C:/Users/mamit/OneDrive/Desktop/ICDEC 2024/yolov5/runs/detect/exp'\n",
    "output_images = os.listdir(output_dir)\n",
    "\n",
    "# Loop through all detected images and display them\n",
    "for image_name in output_images:\n",
    "    if image_name.endswith('.jpg') or image_name.endswith('.png'):\n",
    "        display(Image(filename=os.path.join(output_dir, image_name)))"
   ]
  },
  {
   "cell_type": "code",
   "execution_count": null,
   "metadata": {},
   "outputs": [],
   "source": []
  },
  {
   "cell_type": "code",
   "execution_count": null,
   "metadata": {},
   "outputs": [],
   "source": []
  }
 ],
 "metadata": {
  "kaggle": {
   "accelerator": "nvidiaTeslaT4",
   "dataSources": [
    {
     "datasetId": 1615118,
     "sourceId": 2655824,
     "sourceType": "datasetVersion"
    },
    {
     "datasetId": 4658749,
     "sourceId": 7926944,
     "sourceType": "datasetVersion"
    },
    {
     "datasetId": 5378863,
     "sourceId": 8939592,
     "sourceType": "datasetVersion"
    },
    {
     "datasetId": 5379755,
     "sourceId": 8940860,
     "sourceType": "datasetVersion"
    },
    {
     "datasetId": 5379916,
     "sourceId": 8941107,
     "sourceType": "datasetVersion"
    },
    {
     "datasetId": 5383082,
     "sourceId": 8945638,
     "sourceType": "datasetVersion"
    },
    {
     "datasetId": 5383275,
     "sourceId": 8945930,
     "sourceType": "datasetVersion"
    }
   ],
   "dockerImageVersionId": 30747,
   "isGpuEnabled": true,
   "isInternetEnabled": true,
   "language": "python",
   "sourceType": "notebook"
  },
  "kernelspec": {
   "display_name": "Python 3 (ipykernel)",
   "language": "python",
   "name": "python3"
  },
  "language_info": {
   "codemirror_mode": {
    "name": "ipython",
    "version": 3
   },
   "file_extension": ".py",
   "mimetype": "text/x-python",
   "name": "python",
   "nbconvert_exporter": "python",
   "pygments_lexer": "ipython3",
   "version": "3.11.8"
  }
 },
 "nbformat": 4,
 "nbformat_minor": 4
}
